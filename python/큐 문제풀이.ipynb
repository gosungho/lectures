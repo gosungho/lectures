{
 "cells": [
  {
   "cell_type": "markdown",
   "metadata": {},
   "source": [
    "요세푸스 문제\n",
    "- 출처: 백준 알고리즘 사이트"
   ]
  },
  {
   "cell_type": "code",
   "execution_count": 13,
   "metadata": {},
   "outputs": [
    {
     "name": "stdout",
     "output_type": "stream",
     "text": [
      "7 3\n",
      "<3, 6, 2, 7, 5, 1, 4>\n"
     ]
    }
   ],
   "source": [
    "n, k = input().split()\n",
    "n, k = int(n), int(k)\n",
    "\n",
    "queue = [x for x in range(n, 0, -1)]\n",
    "seq = []\n",
    "\n",
    "for _ in range(n):\n",
    "    for _ in range(k-1):\n",
    "        item = queue.pop(-1)\n",
    "        queue.insert(0, item)\n",
    "    seq += [queue.pop(-1)]\n",
    "    \n",
    "print('<', end='')\n",
    "for i in range(len(seq)-1):\n",
    "    print('{}, '.format(seq[i]), end='')\n",
    "print('{}>'.format(seq[len(seq)-1]))\n",
    "    "
   ]
  }
 ],
 "metadata": {
  "kernelspec": {
   "display_name": "Python 3",
   "language": "python",
   "name": "python3"
  },
  "language_info": {
   "codemirror_mode": {
    "name": "ipython",
    "version": 3
   },
   "file_extension": ".py",
   "mimetype": "text/x-python",
   "name": "python",
   "nbconvert_exporter": "python",
   "pygments_lexer": "ipython3",
   "version": "3.7.4"
  }
 },
 "nbformat": 4,
 "nbformat_minor": 2
}
