{
 "cells": [
  {
   "cell_type": "markdown",
   "metadata": {},
   "source": [
    "# 재귀(Recursive)란?\n",
    "\n",
    "- GNU의 뜻?\n",
    "> GNU(GNU(GNU(GNU(GNU(...) Not Unix) Not Unix) Not Unix) Not Unix)\\\n",
    "\n",
    "- 어느 교수님의 대답\n",
    "```\n",
    "어느 한 컴퓨터공학과 학생이 유명한 교수님을 찾아가 물었다.\n",
    "\"재귀함수가 뭔가요?\"\n",
    "\"잘 들어보게. 옛날옛날 한 산 꼭대기에 이세상 모든 지식을 통달한 선인이 있었어.\n",
    "마을 사람들은 모두 그 선인에게 수많은 질문을 했고, 모두 지혜롭게 대답해 주었지.\n",
    "그의 답은 대부분 옳았다고 하네. 그런데 어느 날, 그 선인에게 한 선비가 찾아와서 물었어.\"\n",
    "____\"재귀함수가 뭔가요?\"\n",
    "____\"잘 들어보게. 옛날옛날 한 산 꼭대기에 이세상 모든 지식을 통달한 선인이 있었어.\n",
    "____마을 사람들은 모두 그 선인에게 수많은 질문을 했고, 모두 지혜롭게 대답해 주었지.\n",
    "____그의 답은 대부분 옳았다고 하네. 그런데 어느 날, 그 선인에게 한 선비가 찾아와서 물었어.\"\n",
    "________\"재귀함수가 뭔가요?\"\n",
    "________\"재귀함수는 자기 자신을 호출하는 함수라네\"\n",
    "________라고 답변하였지.\n",
    "____라고 답변하였지.\n",
    "라고 답변하였지.\n",
    "```"
   ]
  },
  {
   "cell_type": "markdown",
   "metadata": {},
   "source": [
    "## 루프를 이용한 반복"
   ]
  },
  {
   "cell_type": "code",
   "execution_count": 7,
   "metadata": {},
   "outputs": [
    {
     "name": "stdout",
     "output_type": "stream",
     "text": [
      "Run while...\n",
      "Run while...\n",
      "Run while...\n",
      "Run while...\n",
      "Run while...\n",
      "Run while...\n",
      "Run while...\n",
      "Run while...\n",
      "Run while...\n",
      "루프가 종료되었습니다.\n"
     ]
    }
   ],
   "source": [
    "# while... \n",
    "\n",
    "n = 10\n",
    "while n > 1: # 종료 조건\n",
    "    print(\"Run while...\")\n",
    "    n = n - 1\n",
    "print(\"루프가 종료되었습니다.\")"
   ]
  },
  {
   "cell_type": "markdown",
   "metadata": {},
   "source": [
    "## 일반적인 재귀의 형태"
   ]
  },
  {
   "cell_type": "code",
   "execution_count": null,
   "metadata": {},
   "outputs": [],
   "source": [
    "def func():\n",
    "    print(\"Call Function\")\n",
    "    func()\n",
    "    \n",
    "func()"
   ]
  },
  {
   "cell_type": "code",
   "execution_count": 14,
   "metadata": {},
   "outputs": [
    {
     "name": "stdout",
     "output_type": "stream",
     "text": [
      "5번 함수가 실행 되었습니다.\n",
      "4번 함수가 실행 되었습니다.\n",
      "3번 함수가 실행 되었습니다.\n",
      "2번 함수가 실행 되었습니다.\n",
      "1번 함수가 실행 되었습니다.\n",
      "기저 조건을 만족하였습니다.\n",
      "1번 함수에서 재귀가 종료 되었습니다.\n",
      "2번 함수가 종료 됩니다...\n",
      "3번 함수가 종료 됩니다...\n",
      "4번 함수가 종료 됩니다...\n",
      "5번 함수가 종료 됩니다...\n"
     ]
    }
   ],
   "source": [
    "def func(n):\n",
    "    print(\"{}번 함수가 실행 되었습니다.\".format(n) )\n",
    "    if n <= 1: # Base Condition(기저 조건)\n",
    "        print(\"기저 조건을 만족하였습니다.\")\n",
    "        return print(\"{}번 함수에서 재귀가 종료 되었습니다.\".format(n) )\n",
    "    \n",
    "    func(n-1)\n",
    "    # return 은 함수의 종료를 의미적으로 나타내기 위해서 사용되었습니다. \n",
    "    # 여기선 return 이 없어도 더 이상 실행할 코드가 없기 때문에 \n",
    "    # 함수는 종료 됩니다.\n",
    "    return print(\"{}번 함수가 종료 됩니다...\".format(n) )\n",
    "    \n",
    "func(5)"
   ]
  },
  {
   "cell_type": "markdown",
   "metadata": {},
   "source": [
    "## 1부터 n까지의 합을 구하는 다양한 방식\n",
    "- 효율성 보다는 다양한 접근 방법에 집중\n",
    "- 상향식 접근방법(동적 계획법), 하향식 접근방법\n",
    "- 상향식 접근방법: loop, 꼬리재귀(Tail Recursive)\n",
    "- 하향식 접근방법: 재귀"
   ]
  },
  {
   "cell_type": "markdown",
   "metadata": {},
   "source": [
    "# 상향식 접근 방법(loop)"
   ]
  },
  {
   "cell_type": "markdown",
   "metadata": {},
   "source": [
    "같다(==), 같지않다(!=), 크다(>), 크거다 같다(>=), 작다(<), 작거나 같다(<=)"
   ]
  },
  {
   "cell_type": "code",
   "execution_count": 15,
   "metadata": {},
   "outputs": [
    {
     "name": "stdout",
     "output_type": "stream",
     "text": [
      "55\n"
     ]
    }
   ],
   "source": [
    "n = 10\n",
    "total = 0\n",
    "while n != 0: \n",
    "    total += n\n",
    "    n -= 1\n",
    "print(total)"
   ]
  },
  {
   "cell_type": "markdown",
   "metadata": {},
   "source": [
    "# 상향식 접근 방법(꼬리재귀)"
   ]
  },
  {
   "cell_type": "code",
   "execution_count": 1,
   "metadata": {},
   "outputs": [
    {
     "name": "stdout",
     "output_type": "stream",
     "text": [
      "10번째 함수 호출의 total: 0\n",
      "9번째 함수 호출의 total: 10\n",
      "8번째 함수 호출의 total: 19\n",
      "7번째 함수 호출의 total: 27\n",
      "6번째 함수 호출의 total: 34\n",
      "5번째 함수 호출의 total: 40\n",
      "4번째 함수 호출의 total: 45\n",
      "3번째 함수 호출의 total: 49\n",
      "2번째 함수 호출의 total: 52\n",
      "1번째 함수 호출의 total: 54\n",
      "0번째 함수 호출의 total: 55\n",
      "기저조건을 만족합니다. total: 55\n",
      "1번째 함수의 리턴: 55\n",
      "2번째 함수의 리턴: 55\n",
      "3번째 함수의 리턴: 55\n",
      "4번째 함수의 리턴: 55\n",
      "5번째 함수의 리턴: 55\n",
      "6번째 함수의 리턴: 55\n",
      "7번째 함수의 리턴: 55\n",
      "8번째 함수의 리턴: 55\n",
      "9번째 함수의 리턴: 55\n",
      "10번째 함수의 리턴: 55\n",
      "55\n"
     ]
    }
   ],
   "source": [
    "def tail_recursive(total, n):\n",
    "    print('{}번째 함수 호출의 total: {}'.format(n, total) )\n",
    "    # 기저조건\n",
    "    if n == 0:\n",
    "        print(\"기저조건을 만족합니다. total: {}\".format(total) )\n",
    "        return total\n",
    "\n",
    "    ret = tail_recursive(total + n, n-1)\n",
    "    print('{}번째 함수의 리턴: {}'.format(n, ret))\n",
    "    return ret\n",
    "    # return tail_recursive(total + n, n-1)\n",
    "    \n",
    "print( tail_recursive(0, 10) )"
   ]
  },
  {
   "cell_type": "markdown",
   "metadata": {},
   "source": [
    "## 하향식 접근 방법(재귀)"
   ]
  },
  {
   "cell_type": "code",
   "execution_count": 11,
   "metadata": {},
   "outputs": [
    {
     "name": "stdout",
     "output_type": "stream",
     "text": [
      "Call recursive(5)\n",
      "Call recursive(4)\n",
      "Call recursive(3)\n",
      "Call recursive(2)\n",
      "Call recursive(1)\n",
      "Call recursive(0)\n",
      "return 0\n",
      "return 1 + 0\n",
      "return 2 + 1\n",
      "return 3 + 3\n",
      "return 4 + 6\n",
      "return 5 + 10\n",
      "15\n"
     ]
    }
   ],
   "source": [
    "def recursive(n):\n",
    "    print(\"Call recursive({})\".format(n) )\n",
    "    if n != 0:\n",
    "        # return n + recursive(n-1)\n",
    "        ret = recursive(n-1)\n",
    "        print(\"return {} + {}\".format(n, ret) )\n",
    "        return n + ret\n",
    "    else:\n",
    "        print(\"return {}\".format(n) )\n",
    "        return n\n",
    "\n",
    "print( recursive(5) )"
   ]
  },
  {
   "cell_type": "markdown",
   "metadata": {},
   "source": [
    "# 재귀 연습문제(n ^ m)\n",
    "- 임의의 정수 n, m이 주어졌을 때 \n",
    "- n ^ m 을 구하는 프로그램을 작성하겠습니다. \n",
    "- 물론 파이썬 에서는 `**` 연산자를 통해 쉽게 연산이 가능하지만,\n",
    "- 연습을 위해서 직접 만들어 보겠습니다. \n",
    "- 임의의 정수는 5 이하의 정수라고 가정합니다. \n",
    "\n",
    "```\n",
    "    n ^ m = n(1) * n(2) * n(3) * ... * n(m)\n",
    "    2 ^ 3 = 2 * 2 * 2\n",
    "    5 ^ 4 = 5 * 5 * 5 * 5\n",
    "```"
   ]
  },
  {
   "cell_type": "markdown",
   "metadata": {},
   "source": [
    "## n^m을 구하는 프로그램 작성(loop)"
   ]
  },
  {
   "cell_type": "code",
   "execution_count": 13,
   "metadata": {},
   "outputs": [
    {
     "name": "stdout",
     "output_type": "stream",
     "text": [
      "32\n"
     ]
    }
   ],
   "source": [
    "n = 2\n",
    "m = 5\n",
    "\n",
    "mul = 1\n",
    "while m >= 1:\n",
    "    mul = mul * n\n",
    "    m = m - 1\n",
    "print(mul)"
   ]
  },
  {
   "cell_type": "markdown",
   "metadata": {},
   "source": [
    "## n^m을 구하는 프로그램 작성(꼬리재귀)"
   ]
  },
  {
   "cell_type": "code",
   "execution_count": 15,
   "metadata": {},
   "outputs": [
    {
     "name": "stdout",
     "output_type": "stream",
     "text": [
      "call multiple(2, 4, 2)\n",
      "call multiple(2, 3, 4)\n",
      "call multiple(2, 2, 8)\n",
      "call multiple(2, 1, 16)\n",
      "call multiple(2, 0, 32)\n",
      "call multiple(2, -1, 64)\n",
      "return 32\n",
      "return 32\n",
      "return 32\n",
      "return 32\n",
      "return 32\n",
      "return 32\n",
      "32\n"
     ]
    }
   ],
   "source": [
    "def multiple(n, m, mul):\n",
    "    print('call multiple({}, {}, {})'.format(n, m-1, mul * n))\n",
    "    if m >= 1:\n",
    "        # return multiple(n, m-1, mul * n)\n",
    "        ret = multiple(n, m-1, mul * n)\n",
    "        print('return {}'.format(ret) )\n",
    "        return ret\n",
    "    else:\n",
    "        print('return {}'.format(mul) )\n",
    "        return mul\n",
    "\n",
    "print( multiple(2, 5, 1) )"
   ]
  },
  {
   "cell_type": "markdown",
   "metadata": {},
   "source": [
    "## n^m을 구하는 프로그램 작성(재귀)"
   ]
  },
  {
   "cell_type": "code",
   "execution_count": 3,
   "metadata": {},
   "outputs": [
    {
     "data": {
      "text/plain": [
       "32"
      ]
     },
     "execution_count": 3,
     "metadata": {},
     "output_type": "execute_result"
    }
   ],
   "source": [
    "def multiple(n, m):\n",
    "    if m >= 1:\n",
    "        return n * multiple(n, m-1)\n",
    "    else:\n",
    "        return 1\n",
    "\n",
    "multiple(2, 5)"
   ]
  },
  {
   "cell_type": "code",
   "execution_count": 5,
   "metadata": {},
   "outputs": [
    {
     "name": "stdout",
     "output_type": "stream",
     "text": [
      "call multiple(2, 5)\n",
      "call multiple(2, 4)\n",
      "call multiple(2, 3)\n",
      "call multiple(2, 2)\n",
      "call multiple(2, 1)\n",
      "call multiple(2, 0)\n",
      "return 1\n",
      "return 2 * 1\n",
      "return 2 * 2\n",
      "return 2 * 4\n",
      "return 2 * 8\n",
      "return 2 * 16\n"
     ]
    },
    {
     "data": {
      "text/plain": [
       "32"
      ]
     },
     "execution_count": 5,
     "metadata": {},
     "output_type": "execute_result"
    }
   ],
   "source": [
    "# 출력 버전\n",
    "def multiple(n, m):\n",
    "    print('call multiple({}, {})'.format(n, m) )\n",
    "    if m >= 1:\n",
    "        # return n * multiple(n, m-1)\n",
    "        ret = multiple(n, m-1)\n",
    "        print('return {} * {}'.format(n, ret) )\n",
    "        return n * ret\n",
    "    else:\n",
    "        print('return {}'.format(1))\n",
    "        return 1\n",
    "\n",
    "multiple(2, 5)"
   ]
  },
  {
   "cell_type": "markdown",
   "metadata": {},
   "source": [
    "## 러시아 농부의 곱셈(고대 이집트 곱셈)\n",
    "\n",
    "1. 왼쪽에 있는 수는 2로 나눠주고, 나머지는 버린다. (1일 될때까지 해준다.)\n",
    "2. 오른쪽에 있는 수는 두배를 해준다. \n",
    "3. 왼쪽에 있는 수가 홀수인 오른쪽의 수들을 모두 더해준다. \n",
    "\n",
    "```\n",
    "    123 x 12\n",
    "    61  x 24\n",
    "    30  x 48\n",
    "    15  x 96\n",
    "    7   x 192\n",
    "    3   x 384\n",
    "    1   x 768\n",
    "```"
   ]
  },
  {
   "cell_type": "code",
   "execution_count": 8,
   "metadata": {},
   "outputs": [
    {
     "name": "stdout",
     "output_type": "stream",
     "text": [
      "1476\n"
     ]
    }
   ],
   "source": [
    "n = 123\n",
    "m = 12\n",
    "\n",
    "total = 0\n",
    "\n",
    "while n >= 1:\n",
    "    if n % 2: # n이 홀수인 경우\n",
    "        total += m\n",
    "    # n = n // 2\n",
    "    n //= 2\n",
    "    m *= 2\n",
    "print(total)"
   ]
  },
  {
   "cell_type": "code",
   "execution_count": 9,
   "metadata": {},
   "outputs": [
    {
     "name": "stdout",
     "output_type": "stream",
     "text": [
      "1476\n"
     ]
    }
   ],
   "source": [
    "# 꼬리재귀를 작성할 때에는 \n",
    "# 다음에 호출될 나 자신(Callee)에게 어떤 값을 전달할 것인지를 고민해봅시다.\n",
    "# 이 문제에서는 각 단계별로 왼쪽 수가 홀수인 경우 오른쪽수를 더한 \n",
    "# total을 다음의 나 자신에게 넘겨주는 것이 핵심이다.\n",
    "\n",
    "def russianFarmer(n, m, total):\n",
    "    if n >= 1:\n",
    "        if n % 2: # 홀수인 경우\n",
    "            return russianFarmer(n//2, m*2, total + m)\n",
    "        else:\n",
    "            return russianFarmer(n//2, m*2, total)\n",
    "    else:\n",
    "        return total\n",
    "print(russianFarmer(123, 12, 0) )"
   ]
  },
  {
   "cell_type": "code",
   "execution_count": 10,
   "metadata": {},
   "outputs": [
    {
     "name": "stdout",
     "output_type": "stream",
     "text": [
      "1476\n"
     ]
    }
   ],
   "source": [
    "# 재귀를 작성 할 때에는 마지막 함수가 호출된 이후로\n",
    "# 어떤값을 이전에 호출했던 함수(Caller)에게 돌려줄지(return)를 \n",
    "# 고민해보면 됩니다. \n",
    "\n",
    "def russianFarmer(n, m):\n",
    "    if n >= 1:\n",
    "        if n % 2: # 홀수인 경우\n",
    "            return m + russianFarmer(n//2, m*2)\n",
    "        else:\n",
    "            return russianFarmer(n//2, m*2)\n",
    "    else:\n",
    "        return 0\n",
    "\n",
    "print(russianFarmer(123, 12) )"
   ]
  },
  {
   "cell_type": "markdown",
   "metadata": {},
   "source": [
    "# 팩토리얼 구하기\n",
    "\n",
    "```\n",
    "    n! = 1 * 2 * 3 * ... * n\n",
    "    5! = 1 * 2 * 3 * 4 * 5\n",
    "```\n",
    "\n",
    "- 1부터 n까지의 합을 구하는 내용과 동일"
   ]
  },
  {
   "cell_type": "markdown",
   "metadata": {},
   "source": [
    "# 루프(While)를 이용한 팩토리얼 구하기!"
   ]
  },
  {
   "cell_type": "code",
   "execution_count": 7,
   "metadata": {},
   "outputs": [
    {
     "name": "stdout",
     "output_type": "stream",
     "text": [
      "3628800\n"
     ]
    }
   ],
   "source": [
    "n = 10\n",
    "total = 1 # 덧셈과 달리 항등원이 1이다. \n",
    "while n != 0: \n",
    "    total *= n\n",
    "    n -= 1\n",
    "print(total)"
   ]
  },
  {
   "cell_type": "markdown",
   "metadata": {},
   "source": [
    "# 꼬리재귀를 이용한 팩토리얼 구하기"
   ]
  },
  {
   "cell_type": "code",
   "execution_count": 17,
   "metadata": {},
   "outputs": [
    {
     "name": "stdout",
     "output_type": "stream",
     "text": [
      "1\n"
     ]
    }
   ],
   "source": [
    "def factorial(n, total):\n",
    "    if n != 0:\n",
    "        return factorial(n-1, total * n)\n",
    "    else:\n",
    "        return total\n",
    "\n",
    "print(factorial(0, 1))"
   ]
  },
  {
   "cell_type": "markdown",
   "metadata": {},
   "source": [
    "# 재귀를 이용한 팩토리얼 구하기"
   ]
  },
  {
   "cell_type": "code",
   "execution_count": 20,
   "metadata": {},
   "outputs": [
    {
     "name": "stdout",
     "output_type": "stream",
     "text": [
      "3628800\n"
     ]
    }
   ],
   "source": [
    "def factorial(n):\n",
    "    if n != 0:\n",
    "        return n * factorial(n-1)\n",
    "    else:\n",
    "        return 1\n",
    "\n",
    "print(factorial(10))"
   ]
  },
  {
   "cell_type": "markdown",
   "metadata": {},
   "source": [
    "# 피보나치 수 구하기(while)"
   ]
  },
  {
   "cell_type": "markdown",
   "metadata": {},
   "source": [
    "### 리스트를 이용한 피보나치 수 구하기\n",
    "```\n",
    "    list_ = [0, 1] # 0번째 피보나치수와 1번째 피보나치수는 정해져 있음(점화식)\n",
    "    list_[2] = list_[0] + list_[1]\n",
    "    list_[3] = list_[1] + list_[2]\n",
    "    ...\n",
    "    list_[n] = list_[n-1] + list_[n-2]\n",
    "\n",
    "```\n",
    "\n",
    "### 리스트를 사용하지 않는 경우의 피보나치 수 구하기\n",
    "\n",
    "```\n",
    "    loop: 0\n",
    "        prev_no = 0\n",
    "        current_no = 1\n",
    "        \n",
    "    loop: 1\n",
    "        current_no[1](val=1) = current_n[0](val=1) + prev_no[0](val=0)\n",
    "        prev_no[1](val=1), current_no[1](val=0) = current_no[1], prev_no[0]\n",
    "        \n",
    "    loop: 2\n",
    "        current_no[2](val=1) = current_no[1](val=0) + prev_no[1](val=1)\n",
    "        prev_no[2](val=1), current_no[2](val=1) = current_no[2](val=1), prev_no[1](val=1)\n",
    "        \n",
    "    loop: 3\n",
    "        current_no[3](val=2) = current_no[2](val=1) + prev_no[2](val=1)\n",
    "        prev_no[3](val=2), current_no[3](val=1) = current_no[3](val=2), prev_no[2](val=1)\n",
    "        \n",
    "    loop: 4\n",
    "        current_no[4](val=3) = current_no[3](val=1) + prev_no[3](val=2)\n",
    "        prev_no[4](val=3), current_no[4](val=2) = current_no[4](val=3), prev_no[3](val=2)    \n",
    "    \n",
    "    loop: 5\n",
    "        current_no[5](val=5) = current_no[4](val=2) + prev_no[4](val=3)\n",
    "        prev_no[5](val=5), current_no[4](val=3) = current_no[5](val=5), prev_no[4](val=3)    \n",
    "        \n",
    "    loop: 6\n",
    "        current_no[6](val=8) = current_no[5](val=3) + prev_no[5](val=5)\n",
    "        prev_no[6](val=8), current_no[6](val=5) = current_no[6](val=8), prev_no[5](val=5)    \n",
    "        \n",
    "    loop: 7\n",
    "        current_no[7](val=13) = current_no[6](val=5) + prev_no[6](val=8)\n",
    "        prev_no[7](val=13), current_no[6](val=8) = current_no[7](val=8), prev_no[6](val=8)    \n",
    "        \n",
    "    loop: 8\n",
    "        current_no[8](val=18) = current_no[7](val=13) + prev_no[5](val=5)\n",
    "        \n",
    "        \n",
    "    ...\n",
    "    \n",
    "    [0, 1, 1, 2, 3, 5, 8, 13, ? \n",
    "```"
   ]
  },
  {
   "cell_type": "code",
   "execution_count": 7,
   "metadata": {},
   "outputs": [
    {
     "name": "stdout",
     "output_type": "stream",
     "text": [
      "0 -> 피보나치 수: 1\n",
      "0 -> prev no: 1, current no: 0\n",
      "1 -> 피보나치 수: 1\n",
      "1 -> prev no: 1, current no: 1\n",
      "2 -> 피보나치 수: 2\n",
      "2 -> prev no: 2, current no: 1\n",
      "3 -> 피보나치 수: 3\n",
      "3 -> prev no: 3, current no: 2\n",
      "4 -> 피보나치 수: 5\n",
      "4 -> prev no: 5, current no: 3\n",
      "5 -> 피보나치 수: 8\n",
      "5 -> prev no: 8, current no: 5\n",
      "6 -> 피보나치 수: 13\n",
      "6 -> prev no: 13, current no: 8\n",
      "7 -> 피보나치 수: 21\n",
      "7 -> prev no: 21, current no: 13\n",
      "8 -> 피보나치 수: 34\n",
      "8 -> prev no: 34, current no: 21\n",
      "9 -> 피보나치 수: 55\n",
      "9 -> prev no: 55, current no: 34\n",
      "10 -> 피보나치 수: 89\n",
      "10 -> prev no: 89, current no: 55\n",
      "55\n"
     ]
    }
   ],
   "source": [
    "n = 10\n",
    "\n",
    "# 점화식\n",
    "prev_no = 0\n",
    "current_no = 1\n",
    "i = 0\n",
    "while i <= n : \n",
    "    current_no = current_no + prev_no\n",
    "    print('{} -> 피보나치 수: {}'.format(i, current_no))\n",
    "    prev_no, current_no = current_no, prev_no\n",
    "    print('{} -> prev no: {}, current no: {}'.format(i, prev_no, current_no))\n",
    "    \n",
    "    i += 1\n",
    "       \n",
    "print(current_no)\n",
    "    \n",
    "    "
   ]
  },
  {
   "cell_type": "markdown",
   "metadata": {},
   "source": [
    "# 피보나치 수 구하기(꼬리재귀)"
   ]
  },
  {
   "cell_type": "code",
   "execution_count": null,
   "metadata": {},
   "outputs": [],
   "source": []
  },
  {
   "cell_type": "markdown",
   "metadata": {},
   "source": [
    "# 피보나치 수 구하기(재귀)"
   ]
  },
  {
   "cell_type": "code",
   "execution_count": null,
   "metadata": {},
   "outputs": [],
   "source": []
  }
 ],
 "metadata": {
  "kernelspec": {
   "display_name": "Python 3",
   "language": "python",
   "name": "python3"
  },
  "language_info": {
   "codemirror_mode": {
    "name": "ipython",
    "version": 3
   },
   "file_extension": ".py",
   "mimetype": "text/x-python",
   "name": "python",
   "nbconvert_exporter": "python",
   "pygments_lexer": "ipython3",
   "version": "3.7.4"
  }
 },
 "nbformat": 4,
 "nbformat_minor": 2
}
