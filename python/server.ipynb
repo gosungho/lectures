{
 "cells": [
  {
   "cell_type": "code",
   "execution_count": 40,
   "metadata": {},
   "outputs": [],
   "source": [
    "import socket"
   ]
  },
  {
   "cell_type": "code",
   "execution_count": 45,
   "metadata": {},
   "outputs": [],
   "source": [
    "# ip address, port number\n",
    "host = '172.17.0.22'\n",
    "port = 33339"
   ]
  },
  {
   "cell_type": "markdown",
   "metadata": {},
   "source": [
    "# socket 생성\n",
    "\n",
    "- 파일 객체 생성하듯이 .. "
   ]
  },
  {
   "cell_type": "code",
   "execution_count": 46,
   "metadata": {},
   "outputs": [
    {
     "name": "stdout",
     "output_type": "stream",
     "text": [
      "receive from: 헬로로로로로\n"
     ]
    }
   ],
   "source": [
    "# socket.socket()\n",
    "# module name.socket()\n",
    "\n",
    "# socket.AF_INET\n",
    "# socket.PF_INET\n",
    "\n",
    "server_socket = \\\n",
    "    socket.socket(socket.AF_INET, socket.SOCK_STREAM)\n",
    "\n",
    "server_socket.setsockopt(socket.SOL_SOCKET, \n",
    "                         socket.SO_REUSEADDR, 1)\n",
    "\n",
    "# bind\n",
    "server_socket.bind( (host, port) )\n",
    "\n",
    "# listen\n",
    "server_socket.listen()\n",
    "\n",
    "# accept()\n",
    "client_socket, client_addr = server_socket.accept()\n",
    "\n",
    "data = client_socket.recv(1024)\n",
    "print(\"receive from: {}\".format(data.decode()) )\n",
    "\n",
    "\n"
   ]
  },
  {
   "cell_type": "code",
   "execution_count": 30,
   "metadata": {},
   "outputs": [],
   "source": [
    "server_socket.close()"
   ]
  },
  {
   "cell_type": "code",
   "execution_count": 31,
   "metadata": {},
   "outputs": [
    {
     "data": {
      "text/plain": [
       "<socket.socket [closed] fd=-1, family=AddressFamily.AF_INET, type=SocketKind.SOCK_STREAM, proto=0>"
      ]
     },
     "execution_count": 31,
     "metadata": {},
     "output_type": "execute_result"
    }
   ],
   "source": [
    "server_socket"
   ]
  }
 ],
 "metadata": {
  "kernelspec": {
   "display_name": "Python 3",
   "language": "python",
   "name": "python3"
  },
  "language_info": {
   "codemirror_mode": {
    "name": "ipython",
    "version": 3
   },
   "file_extension": ".py",
   "mimetype": "text/x-python",
   "name": "python",
   "nbconvert_exporter": "python",
   "pygments_lexer": "ipython3",
   "version": "3.7.4"
  }
 },
 "nbformat": 4,
 "nbformat_minor": 2
}
