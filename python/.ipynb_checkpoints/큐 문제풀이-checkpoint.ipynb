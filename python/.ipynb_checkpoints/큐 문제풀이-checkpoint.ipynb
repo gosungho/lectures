{
 "cells": [
  {
   "cell_type": "markdown",
   "metadata": {},
   "source": [
    "요세푸스 문제\n",
    "- 출처: 백준 알고리즘 사이트"
   ]
  },
  {
   "cell_type": "code",
   "execution_count": 16,
   "metadata": {},
   "outputs": [
    {
     "name": "stdout",
     "output_type": "stream",
     "text": [
      "7 3\n",
      "[4, 5, 6, 1, 2, 7]\n",
      "[3]\n"
     ]
    }
   ],
   "source": [
    "n, k = input().split()\n",
    "n, k = int(n), int(k)\n",
    "\n",
    "queue = [x for x in range(1, n+1)]\n",
    "seq = []\n",
    "\n",
    "for _ in range(n):\n",
    "    for _ in range(k-1):\n",
    "        item = queue.pop(0)\n",
    "        queue.insert(-1, item)\n",
    "        # queue.append(item)\n",
    "    seq += [queue.pop(0)]\n",
    "    break\n",
    "\n",
    "print(queue)\n",
    "print(seq)"
   ]
  },
  {
   "cell_type": "code",
   "execution_count": null,
   "metadata": {},
   "outputs": [],
   "source": []
  },
  {
   "cell_type": "markdown",
   "metadata": {},
   "source": []
  }
 ],
 "metadata": {
  "kernelspec": {
   "display_name": "Python 3",
   "language": "python",
   "name": "python3"
  },
  "language_info": {
   "codemirror_mode": {
    "name": "ipython",
    "version": 3
   },
   "file_extension": ".py",
   "mimetype": "text/x-python",
   "name": "python",
   "nbconvert_exporter": "python",
   "pygments_lexer": "ipython3",
   "version": "3.7.4"
  }
 },
 "nbformat": 4,
 "nbformat_minor": 2
}
