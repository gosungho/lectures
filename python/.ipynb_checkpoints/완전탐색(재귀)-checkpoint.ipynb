{
 "cells": [
  {
   "cell_type": "markdown",
   "metadata": {},
   "source": [
    "# 완전탐색(Brute-Force)\n",
    "- 모든 경우의 수를 전부 검사\n",
    "- 어떤 문제의 답을 찾는 가장 정확한 방법\n",
    "- 컴퓨터의 성능에 크게 의존\n",
    "- 조합(combination)과 순열(permutaion)에 적용해볼 수 있다. "
   ]
  },
  {
   "cell_type": "markdown",
   "metadata": {},
   "source": [
    "## 조합, 중복조합(순서에 상관없이)\n",
    "- 서로다른 n개의 원소에서 r개의 원소를 뽑는 방법\n",
    "- r개의 원소가 중복되는 경우를 허락"
   ]
  },
  {
   "cell_type": "markdown",
   "metadata": {},
   "source": [
    "## 순열\n",
    "- 서로다른 n개의 원소에서 순서에 상관이 있고, 중복을 허락하지 않는, \n",
    "- r개의 원소를 뽑는 방법"
   ]
  },
  {
   "cell_type": "markdown",
   "metadata": {},
   "source": [
    "중복조합"
   ]
  },
  {
   "cell_type": "code",
   "execution_count": null,
   "metadata": {},
   "outputs": [],
   "source": [
    "# 알파벳 소문자를 이용해서 r개의 원소를 뽑는 방법\n",
    "# 알파벳에서 중복된 선택이 가능한 순서를 고려하지 않은 경우의 수\n",
    "alpha = list('abcdefghijklnopqrstuvwxyz')\n",
    "\n",
    "for i in alpha:\n",
    "    for j in alpha:\n",
    "        for k in alpha:\n",
    "            # for _ in alpha # 찾고자 하는 r이 늘어날 수록 루프의 중첩도 늘어난다.\n",
    "            print('{}{}{}'.format(i, j, k))"
   ]
  },
  {
   "cell_type": "code",
   "execution_count": null,
   "metadata": {},
   "outputs": [],
   "source": []
  },
  {
   "cell_type": "markdown",
   "metadata": {},
   "source": []
  }
 ],
 "metadata": {
  "kernelspec": {
   "display_name": "Python 3",
   "language": "python",
   "name": "python3"
  },
  "language_info": {
   "codemirror_mode": {
    "name": "ipython",
    "version": 3
   },
   "file_extension": ".py",
   "mimetype": "text/x-python",
   "name": "python",
   "nbconvert_exporter": "python",
   "pygments_lexer": "ipython3",
   "version": "3.7.4"
  }
 },
 "nbformat": 4,
 "nbformat_minor": 2
}
