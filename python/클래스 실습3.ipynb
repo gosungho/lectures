{
 "cells": [
  {
   "cell_type": "markdown",
   "metadata": {},
   "source": [
    "# Stock 클래스 생성\n",
    "- 주식 종목에 대한 정보를 저장하는 Stock 클래스를 정의 해봅니다. "
   ]
  },
  {
   "cell_type": "code",
   "execution_count": null,
   "metadata": {},
   "outputs": [],
   "source": []
  },
  {
   "cell_type": "markdown",
   "metadata": {},
   "source": [
    "# Stock 클래스의 객체가 생성될 때, 종목명과 종목코드를 입력 받을 수 있도록 생성자를 정의 해봅니다. \n",
    "\n",
    "- 입력예\n",
    "```\n",
    "    samsung = Stock(\"삼성전자\", \"005939\")\n",
    "```"
   ]
  },
  {
   "cell_type": "code",
   "execution_count": null,
   "metadata": {},
   "outputs": [],
   "source": []
  },
  {
   "cell_type": "markdown",
   "metadata": {},
   "source": [
    "\n",
    "# 객체에 종목명을 입력할 수 있는 set_name 메서드를 추가 해봅니다. \n",
    "\n",
    "- 입력예\n",
    "```\n",
    "    a = Stock()\n",
    "    a.set_name(\"삼성전자\")\n",
    "```"
   ]
  },
  {
   "cell_type": "code",
   "execution_count": null,
   "metadata": {},
   "outputs": [],
   "source": []
  },
  {
   "cell_type": "markdown",
   "metadata": {},
   "source": [
    "# 객체에 종목코드를 입력할 수 있는 set_code 메서드를 추가 해봅니다. \n",
    "\n",
    "- 입력예\n",
    "```\n",
    "    a = Stock()\n",
    "    a.set_code(\"005930\")\n",
    "```"
   ]
  },
  {
   "cell_type": "code",
   "execution_count": null,
   "metadata": {},
   "outputs": [],
   "source": []
  },
  {
   "cell_type": "markdown",
   "metadata": {},
   "source": [
    "# 생성자에서 종목명, 종목코드, PER, PBR, 배당수익률을 입력 받을 수 있도록 생성자를 수정 해봅니다. "
   ]
  },
  {
   "cell_type": "code",
   "execution_count": null,
   "metadata": {},
   "outputs": [],
   "source": []
  },
  {
   "cell_type": "markdown",
   "metadata": {},
   "source": [
    "# 수정된 생성자를 통해 다음의 객체를 생성 해봅니다. \n",
    "\n",
    "|항목|정보|\n",
    "|:---:|:---:|\n",
    "| 종목명 | 삼성전자 |\n",
    "| 종목코드 | 005930 |\n",
    "| PER | 15.79 |\n",
    "| PBR | 1.33 |\n",
    "| 배당수익률 | 2.83 |"
   ]
  },
  {
   "cell_type": "code",
   "execution_count": null,
   "metadata": {},
   "outputs": [],
   "source": []
  },
  {
   "cell_type": "markdown",
   "metadata": {},
   "source": [
    "# 여러 종목의 객체를 생성해보겠습니다. \n",
    "\n",
    "| 종목명 | 종목코드 | PER | PBR | 배당수익률 |\n",
    "|:---:|:---:|:---:|:---:|:---:|\n",
    "| 삼성전자 | 005930 | 15.79 | 1.33 | 2.83 |\n",
    "| 현대차 | 005380 | 8.70 | 0.35 | 4.27 |\n",
    "| LG전자 | 066570 | 317.34 | 0.69 | 1.37 |"
   ]
  }
 ],
 "metadata": {
  "kernelspec": {
   "display_name": "Python 3",
   "language": "python",
   "name": "python3"
  },
  "language_info": {
   "codemirror_mode": {
    "name": "ipython",
    "version": 3
   },
   "file_extension": ".py",
   "mimetype": "text/x-python",
   "name": "python",
   "nbconvert_exporter": "python",
   "pygments_lexer": "ipython3",
   "version": "3.7.4"
  }
 },
 "nbformat": 4,
 "nbformat_minor": 2
}
