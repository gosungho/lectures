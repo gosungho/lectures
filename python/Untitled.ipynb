{
  "nbformat": 4,
  "nbformat_minor": 0,
  "metadata": {
    "kernelspec": {
      "display_name": "Python 3",
      "language": "python",
      "name": "python3"
    },
    "language_info": {
      "codemirror_mode": {
        "name": "ipython",
        "version": 3
      },
      "file_extension": ".py",
      "mimetype": "text/x-python",
      "name": "python",
      "nbconvert_exporter": "python",
      "pygments_lexer": "ipython3",
      "version": "3.7.4"
    },
    "colab": {
      "name": "Untitled.ipynb",
      "provenance": [],
      "include_colab_link": true
    }
  },
  "cells": [
    {
      "cell_type": "markdown",
      "metadata": {
        "id": "view-in-github",
        "colab_type": "text"
      },
      "source": [
        "<a href=\"https://colab.research.google.com/github/sapience2357/lectures/blob/main/python/Untitled.ipynb\" target=\"_parent\"><img src=\"https://colab.research.google.com/assets/colab-badge.svg\" alt=\"Open In Colab\"/></a>"
      ]
    },
    {
      "cell_type": "markdown",
      "metadata": {
        "id": "JxorNh_MOYUJ"
      },
      "source": [
        "# 타입 캐스팅과 문자열 포맷팅"
      ]
    },
    {
      "cell_type": "code",
      "metadata": {
        "id": "_h17GZt4OYUM",
        "outputId": "2bb069f1-cef2-44c9-abc3-c1a985db2c8a"
      },
      "source": [
        "var = 2\n",
        "print( type(var) )\n",
        "var = str(var)\n",
        "print( type(var) )\n",
        "print(var)\n",
        "\n",
        "print( 'hello' + var)"
      ],
      "execution_count": null,
      "outputs": [
        {
          "output_type": "stream",
          "text": [
            "<class 'int'>\n",
            "<class 'str'>\n",
            "2\n",
            "hello2\n"
          ],
          "name": "stdout"
        }
      ]
    },
    {
      "cell_type": "code",
      "metadata": {
        "id": "d-RAK8v_OYUV",
        "outputId": "0f452dcd-68aa-4782-c92b-9a8d1bbf09ce"
      },
      "source": [
        "var = '2'\n",
        "print(type(var))\n",
        "print(type( int(var) ))\n",
        "print( 1 + int(var) )"
      ],
      "execution_count": null,
      "outputs": [
        {
          "output_type": "stream",
          "text": [
            "<class 'str'>\n",
            "<class 'int'>\n",
            "3\n"
          ],
          "name": "stdout"
        }
      ]
    },
    {
      "cell_type": "code",
      "metadata": {
        "id": "28d8yN3HOYUZ",
        "outputId": "a0cd0072-2d22-4160-88f6-cec8b62f4aeb"
      },
      "source": [
        "var = 'hello'\n",
        "int(var)"
      ],
      "execution_count": null,
      "outputs": [
        {
          "output_type": "error",
          "ename": "ValueError",
          "evalue": "invalid literal for int() with base 10: 'hello'",
          "traceback": [
            "\u001b[0;31m---------------------------------------------------------------------------\u001b[0m",
            "\u001b[0;31mValueError\u001b[0m                                Traceback (most recent call last)",
            "\u001b[0;32m<ipython-input-9-015210ef9d8c>\u001b[0m in \u001b[0;36m<module>\u001b[0;34m\u001b[0m\n\u001b[1;32m      1\u001b[0m \u001b[0mvar\u001b[0m \u001b[0;34m=\u001b[0m \u001b[0;34m'hello'\u001b[0m\u001b[0;34m\u001b[0m\u001b[0;34m\u001b[0m\u001b[0m\n\u001b[0;32m----> 2\u001b[0;31m \u001b[0mint\u001b[0m\u001b[0;34m(\u001b[0m\u001b[0mvar\u001b[0m\u001b[0;34m)\u001b[0m\u001b[0;34m\u001b[0m\u001b[0;34m\u001b[0m\u001b[0m\n\u001b[0m",
            "\u001b[0;31mValueError\u001b[0m: invalid literal for int() with base 10: 'hello'"
          ]
        }
      ]
    },
    {
      "cell_type": "code",
      "metadata": {
        "id": "eafiUMvKOYUc",
        "outputId": "4d9c170b-151a-4989-f14a-92f3a0ef4aef"
      },
      "source": [
        "\"The sum of 1 + 2 is {0}\".format(1+2)"
      ],
      "execution_count": null,
      "outputs": [
        {
          "output_type": "execute_result",
          "data": {
            "text/plain": [
              "'The sum of 1 + 2 is 3'"
            ]
          },
          "metadata": {
            "tags": []
          },
          "execution_count": 10
        }
      ]
    },
    {
      "cell_type": "code",
      "metadata": {
        "id": "hv9gv1lmOYUe",
        "outputId": "a7cc7da8-1789-40d7-d8b8-7c94198e1cfe"
      },
      "source": [
        "\"2 x {} = {}\".format( 1, 2)"
      ],
      "execution_count": null,
      "outputs": [
        {
          "output_type": "execute_result",
          "data": {
            "text/plain": [
              "'2 x 1 = 2'"
            ]
          },
          "metadata": {
            "tags": []
          },
          "execution_count": 11
        }
      ]
    },
    {
      "cell_type": "markdown",
      "metadata": {
        "id": "67DNbEb7OYUg"
      },
      "source": [
        "# x 보다 작은 수 모두 출력하기\n",
        "\n",
        "주어진 리스트에서 x보다 작은 수를 모두 출력하시면 됩니다. \n",
        "```\n",
        "    x = 5\n",
        "    [ 1, 10, 4, 9, 2, 3, 8, 5, 7, 6 ]\n",
        "```"
      ]
    },
    {
      "cell_type": "code",
      "metadata": {
        "id": "B1pg_FsfOYUh",
        "outputId": "3414ac1b-f655-4e1f-d510-904ac155c961"
      },
      "source": [
        "lists = [1, 10, 4, 9, 2, 3, 8, 5, 7, 6]\n",
        "x = 5\n",
        "\n",
        "for i in lists:\n",
        "    if i < x:\n",
        "        print(i)\n"
      ],
      "execution_count": null,
      "outputs": [
        {
          "output_type": "stream",
          "text": [
            "1\n",
            "4\n",
            "2\n",
            "3\n"
          ],
          "name": "stdout"
        }
      ]
    },
    {
      "cell_type": "markdown",
      "metadata": {
        "id": "YQM3YTVTOYUk"
      },
      "source": [
        "# 주어진 리스트의 점수를 새로 계산하는 프로그램을 작성\n",
        "\n",
        "```\n",
        "    [10, 20, 30]\n",
        "    M = 30\n",
        "    \n",
        "    ex). 첫번째 원소: 10\n",
        "    => 10/M * 100 => 10/30 * 100 = 33.33333333\n",
        "```"
      ]
    },
    {
      "cell_type": "code",
      "metadata": {
        "id": "n1_rQG1xOYUk",
        "outputId": "93b5089a-c924-4e36-9c2e-3b22f6800dff"
      },
      "source": [
        "lists = [40, 80, 60]\n",
        "# M = max(lists) !!! 추천\n",
        "\n",
        "M = 0\n",
        "# 1). M < 40: M = 40\n",
        "# 2). M < 80: M = 80\n",
        "# 3). M < 60: skip\n",
        "\n",
        "for element in lists:\n",
        "    if M < element:\n",
        "        M = element\n",
        "# print(M) = 80\n",
        "\n",
        "print(lists)\n",
        "print( list(range(3)))\n",
        "for i in range( 3 ):\n",
        "    # print(i)\n",
        "    # print( lists[i] )\n",
        "    lists[i] = lists[i] / M * 100\n",
        "print(lists)"
      ],
      "execution_count": null,
      "outputs": [
        {
          "output_type": "stream",
          "text": [
            "[40, 80, 60]\n",
            "[0, 1, 2]\n",
            "[50.0, 100.0, 75.0]\n"
          ],
          "name": "stdout"
        }
      ]
    },
    {
      "cell_type": "markdown",
      "metadata": {
        "id": "n1V04D2IOYUo"
      },
      "source": [
        "# 주어진 문자열의 총합을 구해봅시다.\n",
        "\n",
        "```\n",
        "    '29384752834'\n",
        "```"
      ]
    },
    {
      "cell_type": "code",
      "metadata": {
        "id": "JIIg6hdJOYUo",
        "outputId": "43d51547-e6f3-42fd-ab64-ed6c41d718f8"
      },
      "source": [
        "string = '29384752834'\n",
        "\n",
        "total = 0\n",
        "for ch in string:\n",
        "    #print(ch)\n",
        "    total += int(ch)\n",
        "print(total)\n",
        "\n",
        "total = 0\n",
        "for i in range( len(string) ):\n",
        "    #print(string[i])\n",
        "    total += int(string[i])\n",
        "print(total)"
      ],
      "execution_count": null,
      "outputs": [
        {
          "output_type": "stream",
          "text": [
            "55\n",
            "55\n"
          ],
          "name": "stdout"
        }
      ]
    },
    {
      "cell_type": "markdown",
      "metadata": {
        "id": "RXMyHbgeOYUr"
      },
      "source": [
        "# 단어의 갯수를 세어봅시다. \n",
        "\n",
        "```\n",
        "'The Curious Case of Benjamin Button'\n",
        "```"
      ]
    },
    {
      "cell_type": "code",
      "metadata": {
        "id": "NSaSANkYOYUr",
        "outputId": "dc93eaac-95cf-463c-a2a7-0a16935f8f76"
      },
      "source": [
        "string = 'The Curious Case of Benjamin Button'\n",
        "cnt = 0\n",
        "\n",
        "# 단어의 갯수 == 화이트 스페이스의 갯수\n",
        "\n",
        "for ch in string:\n",
        "    if ch == ' ':\n",
        "        cnt += 1\n",
        "\n",
        "print(cnt)"
      ],
      "execution_count": null,
      "outputs": [
        {
          "output_type": "stream",
          "text": [
            "5\n"
          ],
          "name": "stdout"
        }
      ]
    },
    {
      "cell_type": "markdown",
      "metadata": {
        "id": "Z9Er0FC8OYUt"
      },
      "source": [
        "# 갯수 세어보기 두 번째\n",
        "\n",
        "```\n",
        "    '1098237489215923874'\n",
        "```\n",
        "\n",
        "주어진 문자열에서 0 에서 9까지 각 숫자가 몇번 나왔는지 구해봅시다. "
      ]
    },
    {
      "cell_type": "code",
      "metadata": {
        "id": "i3kX8F99OYUt",
        "outputId": "b0cd113c-0052-4104-be12-d5a822b0d69a"
      },
      "source": [
        "string = '1098237489215923874'\n",
        "cnt = [0,0,0,0,0,0,0,0,0,0]\n",
        "\n",
        "for ch in string:\n",
        "    cnt[int(ch)] += 1\n",
        "print(cnt)"
      ],
      "execution_count": null,
      "outputs": [
        {
          "output_type": "stream",
          "text": [
            "[1, 2, 3, 2, 2, 1, 0, 2, 3, 3]\n"
          ],
          "name": "stdout"
        }
      ]
    },
    {
      "cell_type": "markdown",
      "metadata": {
        "id": "JOr_1dZWOYUu"
      },
      "source": [
        "# 충첩 루프(루프의 루프)\n",
        "\n",
        "```\n",
        "    단 = [ 2, 3, 4, 5, 6, 7, 8, 9 ]\n",
        "    리스트 = [ 1, 2, 3, 4, 5, 6, 7, 8, 9 ]\n",
        "```"
      ]
    },
    {
      "cell_type": "code",
      "metadata": {
        "id": "Exe9PNLhOYUv",
        "outputId": "79e3b1ec-c6bb-45c3-b0f2-83c5115305bf"
      },
      "source": [
        "n = [2,3,4,5,6,7,8,9]\n",
        "m = [1,2,3,4,5,6,7,8,9]\n",
        "\n",
        "for 단 in n:\n",
        "    # print('단: ' + str(단))\n",
        "    for i in m:\n",
        "        # print('숫자: ' + str(i))\n",
        "        print('{} x {} = {}'.format(단, i, 단*i) )"
      ],
      "execution_count": null,
      "outputs": [
        {
          "output_type": "stream",
          "text": [
            "2 x 1 = 2\n",
            "2 x 2 = 4\n",
            "2 x 3 = 6\n",
            "2 x 4 = 8\n",
            "2 x 5 = 10\n",
            "2 x 6 = 12\n",
            "2 x 7 = 14\n",
            "2 x 8 = 16\n",
            "2 x 9 = 18\n",
            "3 x 1 = 3\n",
            "3 x 2 = 6\n",
            "3 x 3 = 9\n",
            "3 x 4 = 12\n",
            "3 x 5 = 15\n",
            "3 x 6 = 18\n",
            "3 x 7 = 21\n",
            "3 x 8 = 24\n",
            "3 x 9 = 27\n",
            "4 x 1 = 4\n",
            "4 x 2 = 8\n",
            "4 x 3 = 12\n",
            "4 x 4 = 16\n",
            "4 x 5 = 20\n",
            "4 x 6 = 24\n",
            "4 x 7 = 28\n",
            "4 x 8 = 32\n",
            "4 x 9 = 36\n",
            "5 x 1 = 5\n",
            "5 x 2 = 10\n",
            "5 x 3 = 15\n",
            "5 x 4 = 20\n",
            "5 x 5 = 25\n",
            "5 x 6 = 30\n",
            "5 x 7 = 35\n",
            "5 x 8 = 40\n",
            "5 x 9 = 45\n",
            "6 x 1 = 6\n",
            "6 x 2 = 12\n",
            "6 x 3 = 18\n",
            "6 x 4 = 24\n",
            "6 x 5 = 30\n",
            "6 x 6 = 36\n",
            "6 x 7 = 42\n",
            "6 x 8 = 48\n",
            "6 x 9 = 54\n",
            "7 x 1 = 7\n",
            "7 x 2 = 14\n",
            "7 x 3 = 21\n",
            "7 x 4 = 28\n",
            "7 x 5 = 35\n",
            "7 x 6 = 42\n",
            "7 x 7 = 49\n",
            "7 x 8 = 56\n",
            "7 x 9 = 63\n",
            "8 x 1 = 8\n",
            "8 x 2 = 16\n",
            "8 x 3 = 24\n",
            "8 x 4 = 32\n",
            "8 x 5 = 40\n",
            "8 x 6 = 48\n",
            "8 x 7 = 56\n",
            "8 x 8 = 64\n",
            "8 x 9 = 72\n",
            "9 x 1 = 9\n",
            "9 x 2 = 18\n",
            "9 x 3 = 27\n",
            "9 x 4 = 36\n",
            "9 x 5 = 45\n",
            "9 x 6 = 54\n",
            "9 x 7 = 63\n",
            "9 x 8 = 72\n",
            "9 x 9 = 81\n"
          ],
          "name": "stdout"
        }
      ]
    },
    {
      "cell_type": "markdown",
      "metadata": {
        "id": "8Izn8eDPOYUx"
      },
      "source": [
        "# 함수(function)\n",
        "\n",
        "- 수학적인 함수와는 다릅니다. \n",
        "\n",
        "```\n",
        "def 함수명(arguments, ... ):\n",
        "    pass\n",
        "```"
      ]
    },
    {
      "cell_type": "code",
      "metadata": {
        "id": "Dp7x2iwNOYUx"
      },
      "source": [
        "def func(lists=[]):\n",
        "    M = 0\n",
        "    for element in lists:\n",
        "        if M < element:\n",
        "            M = element\n",
        "    return M\n",
        "            \n",
        "n = func([1,2,3,4,5,6])"
      ],
      "execution_count": null,
      "outputs": []
    },
    {
      "cell_type": "code",
      "metadata": {
        "id": "TSfFSV2VOYUz",
        "outputId": "0aec84c1-61e6-4ef6-c829-7c18771d0542"
      },
      "source": [
        "n"
      ],
      "execution_count": null,
      "outputs": [
        {
          "output_type": "execute_result",
          "data": {
            "text/plain": [
              "6"
            ]
          },
          "metadata": {
            "tags": []
          },
          "execution_count": 18
        }
      ]
    },
    {
      "cell_type": "code",
      "metadata": {
        "id": "h9VEQBR1OYU0",
        "outputId": "4a3cf047-676b-4e08-f0c3-c28556a88ad2"
      },
      "source": [
        "string = 'The Curious Case of Benjamin Button'\n",
        "\n",
        "number_of_count = string.split(sep=' ')\n",
        "len(word_count)"
      ],
      "execution_count": null,
      "outputs": [
        {
          "output_type": "execute_result",
          "data": {
            "text/plain": [
              "6"
            ]
          },
          "metadata": {
            "tags": []
          },
          "execution_count": 23
        }
      ]
    },
    {
      "cell_type": "markdown",
      "metadata": {
        "id": "zbtj0Eo1OYU2"
      },
      "source": [
        "# 입/출력\n",
        "\n",
        "## 1. 표준 입출력\n",
        "## 2. 파일 읽기/쓰기\n",
        "## 3. 네트워크 통신 "
      ]
    },
    {
      "cell_type": "markdown",
      "metadata": {
        "id": "EjHMizd9OYU2"
      },
      "source": [
        "# 표준 입/출력\n",
        "\n",
        "- 표준 입력 장치로부터 받은 입력을\n",
        "  표준 출력 장치로 출력"
      ]
    },
    {
      "cell_type": "code",
      "metadata": {
        "id": "nFpmjuS4OYU2",
        "outputId": "509d59de-72ed-4a8c-b1a9-d1cab3031a13"
      },
      "source": [
        "n = input()"
      ],
      "execution_count": null,
      "outputs": [
        {
          "output_type": "stream",
          "text": [
            "1234\n"
          ],
          "name": "stdout"
        }
      ]
    },
    {
      "cell_type": "code",
      "metadata": {
        "id": "A2f4J9OSOYU3",
        "outputId": "196794b8-245a-4bed-a8c1-565dc295bc3d"
      },
      "source": [
        "n"
      ],
      "execution_count": null,
      "outputs": [
        {
          "output_type": "execute_result",
          "data": {
            "text/plain": [
              "'1234'"
            ]
          },
          "metadata": {
            "tags": []
          },
          "execution_count": 8
        }
      ]
    },
    {
      "cell_type": "code",
      "metadata": {
        "id": "L-oTK__rOYU4",
        "outputId": "99ca573e-a84e-4676-a046-c86c01771fe1"
      },
      "source": [
        "n = input()\n",
        "n = int(n)\n",
        "\n",
        "for i in range(1, 10):\n",
        "    print('{} x {} = {}'.format(n, i, n*i) )"
      ],
      "execution_count": null,
      "outputs": [
        {
          "output_type": "stream",
          "text": [
            "h\n"
          ],
          "name": "stdout"
        },
        {
          "output_type": "error",
          "ename": "ValueError",
          "evalue": "invalid literal for int() with base 10: 'h'",
          "traceback": [
            "\u001b[0;31m---------------------------------------------------------------------------\u001b[0m",
            "\u001b[0;31mValueError\u001b[0m                                Traceback (most recent call last)",
            "\u001b[0;32m<ipython-input-12-ce81062417db>\u001b[0m in \u001b[0;36m<module>\u001b[0;34m\u001b[0m\n\u001b[1;32m      1\u001b[0m \u001b[0mn\u001b[0m \u001b[0;34m=\u001b[0m \u001b[0minput\u001b[0m\u001b[0;34m(\u001b[0m\u001b[0;34m)\u001b[0m\u001b[0;34m\u001b[0m\u001b[0;34m\u001b[0m\u001b[0m\n\u001b[0;32m----> 2\u001b[0;31m \u001b[0mn\u001b[0m \u001b[0;34m=\u001b[0m \u001b[0mint\u001b[0m\u001b[0;34m(\u001b[0m\u001b[0mn\u001b[0m\u001b[0;34m)\u001b[0m\u001b[0;34m\u001b[0m\u001b[0;34m\u001b[0m\u001b[0m\n\u001b[0m\u001b[1;32m      3\u001b[0m \u001b[0;34m\u001b[0m\u001b[0m\n\u001b[1;32m      4\u001b[0m \u001b[0;32mfor\u001b[0m \u001b[0mi\u001b[0m \u001b[0;32min\u001b[0m \u001b[0mrange\u001b[0m\u001b[0;34m(\u001b[0m\u001b[0;36m1\u001b[0m\u001b[0;34m,\u001b[0m \u001b[0;36m10\u001b[0m\u001b[0;34m)\u001b[0m\u001b[0;34m:\u001b[0m\u001b[0;34m\u001b[0m\u001b[0;34m\u001b[0m\u001b[0m\n\u001b[1;32m      5\u001b[0m     \u001b[0mprint\u001b[0m\u001b[0;34m(\u001b[0m\u001b[0;34m'{} x {} = {}'\u001b[0m\u001b[0;34m.\u001b[0m\u001b[0mformat\u001b[0m\u001b[0;34m(\u001b[0m\u001b[0mn\u001b[0m\u001b[0;34m,\u001b[0m \u001b[0mi\u001b[0m\u001b[0;34m,\u001b[0m \u001b[0mn\u001b[0m\u001b[0;34m*\u001b[0m\u001b[0mi\u001b[0m\u001b[0;34m)\u001b[0m \u001b[0;34m)\u001b[0m\u001b[0;34m\u001b[0m\u001b[0;34m\u001b[0m\u001b[0m\n",
            "\u001b[0;31mValueError\u001b[0m: invalid literal for int() with base 10: 'h'"
          ]
        }
      ]
    }
  ]
}