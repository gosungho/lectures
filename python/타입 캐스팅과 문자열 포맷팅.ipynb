{
  "nbformat": 4,
  "nbformat_minor": 0,
  "metadata": {
    "kernelspec": {
      "display_name": "Python 3",
      "language": "python",
      "name": "python3"
    },
    "language_info": {
      "codemirror_mode": {
        "name": "ipython",
        "version": 3
      },
      "file_extension": ".py",
      "mimetype": "text/x-python",
      "name": "python",
      "nbconvert_exporter": "python",
      "pygments_lexer": "ipython3",
      "version": "3.7.4"
    },
    "colab": {
      "name": "Untitled.ipynb",
      "provenance": [],
      "include_colab_link": true
    }
  },
  "cells": [
    {
      "cell_type": "markdown",
      "metadata": {
        "id": "view-in-github",
        "colab_type": "text"
      },
      "source": [
        "<a href=\"https://colab.research.google.com/github/sapience2357/lectures/blob/main/python/%ED%83%80%EC%9E%85%20%EC%BA%90%EC%8A%A4%ED%8C%85%EA%B3%BC%20%EB%AC%B8%EC%9E%90%EC%97%B4%20%ED%8F%AC%EB%A7%B7%ED%8C%85.ipynb\" target=\"_parent\"><img src=\"https://colab.research.google.com/assets/colab-badge.svg\" alt=\"Open In Colab\"/></a>"
      ]
    },
    {
      "cell_type": "markdown",
      "metadata": {
        "id": "JxorNh_MOYUJ"
      },
      "source": [
        "# 타입 캐스팅과 문자열 포맷팅"
      ]
    },
    {
      "cell_type": "code",
      "metadata": {
        "id": "_h17GZt4OYUM",
        "outputId": "2bb069f1-cef2-44c9-abc3-c1a985db2c8a"
      },
      "source": [
        "var = 2\n",
        "print( type(var) )\n",
        "var = str(var)\n",
        "print( type(var) )\n",
        "print(var)\n",
        "\n",
        "print( 'hello' + var)"
      ],
      "execution_count": null,
      "outputs": [
        {
          "output_type": "stream",
          "text": [
            "<class 'int'>\n",
            "<class 'str'>\n",
            "2\n",
            "hello2\n"
          ],
          "name": "stdout"
        }
      ]
    },
    {
      "cell_type": "code",
      "metadata": {
        "id": "d-RAK8v_OYUV",
        "outputId": "0f452dcd-68aa-4782-c92b-9a8d1bbf09ce"
      },
      "source": [
        "var = '2'\n",
        "print(type(var))\n",
        "print(type( int(var) ))\n",
        "print( 1 + int(var) )"
      ],
      "execution_count": null,
      "outputs": [
        {
          "output_type": "stream",
          "text": [
            "<class 'str'>\n",
            "<class 'int'>\n",
            "3\n"
          ],
          "name": "stdout"
        }
      ]
    },
    {
      "cell_type": "code",
      "metadata": {
        "id": "28d8yN3HOYUZ",
        "outputId": "a0cd0072-2d22-4160-88f6-cec8b62f4aeb"
      },
      "source": [
        "var = 'hello'\n",
        "int(var)"
      ],
      "execution_count": null,
      "outputs": [
        {
          "output_type": "error",
          "ename": "ValueError",
          "evalue": "invalid literal for int() with base 10: 'hello'",
          "traceback": [
            "\u001b[0;31m---------------------------------------------------------------------------\u001b[0m",
            "\u001b[0;31mValueError\u001b[0m                                Traceback (most recent call last)",
            "\u001b[0;32m<ipython-input-9-015210ef9d8c>\u001b[0m in \u001b[0;36m<module>\u001b[0;34m\u001b[0m\n\u001b[1;32m      1\u001b[0m \u001b[0mvar\u001b[0m \u001b[0;34m=\u001b[0m \u001b[0;34m'hello'\u001b[0m\u001b[0;34m\u001b[0m\u001b[0;34m\u001b[0m\u001b[0m\n\u001b[0;32m----> 2\u001b[0;31m \u001b[0mint\u001b[0m\u001b[0;34m(\u001b[0m\u001b[0mvar\u001b[0m\u001b[0;34m)\u001b[0m\u001b[0;34m\u001b[0m\u001b[0;34m\u001b[0m\u001b[0m\n\u001b[0m",
            "\u001b[0;31mValueError\u001b[0m: invalid literal for int() with base 10: 'hello'"
          ]
        }
      ]
    },
    {
      "cell_type": "code",
      "metadata": {
        "id": "eafiUMvKOYUc",
        "outputId": "4d9c170b-151a-4989-f14a-92f3a0ef4aef"
      },
      "source": [
        "\"The sum of 1 + 2 is {0}\".format(1+2)"
      ],
      "execution_count": null,
      "outputs": [
        {
          "output_type": "execute_result",
          "data": {
            "text/plain": [
              "'The sum of 1 + 2 is 3'"
            ]
          },
          "metadata": {
            "tags": []
          },
          "execution_count": 10
        }
      ]
    },
    {
      "cell_type": "code",
      "metadata": {
        "id": "hv9gv1lmOYUe",
        "outputId": "a7cc7da8-1789-40d7-d8b8-7c94198e1cfe"
      },
      "source": [
        "\"2 x {} = {}\".format( 1, 2)"
      ],
      "execution_count": null,
      "outputs": [
        {
          "output_type": "execute_result",
          "data": {
            "text/plain": [
              "'2 x 1 = 2'"
            ]
          },
          "metadata": {
            "tags": []
          },
          "execution_count": 11
        }
      ]
    }
  ]
}