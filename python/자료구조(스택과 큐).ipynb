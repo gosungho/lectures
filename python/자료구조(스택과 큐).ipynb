{
 "cells": [
  {
   "cell_type": "markdown",
   "metadata": {},
   "source": [
    "# 스택(stack)\n",
    "- 데이터를 관리하는 모습이 마치 물건을 쌓아 올리는 모습과 유사하여 붙은 이름 \n",
    "- 데이터의 입/출력이 한 쪽에서만 발생하는 단방향 자료구조이다. \n",
    "- 데이터 입/출력이 발생하지 않는 쪽을 Bottom 이라고 한다. \n",
    "- 가장 먼저 입력된 데이터가 가장 늦게 나온다고 해서 LIFO(Last In First Out)구조 라고도 한다. "
   ]
  },
  {
   "cell_type": "markdown",
   "metadata": {},
   "source": [
    "## push\n",
    "- 스택에 데이터를 입력하는 명령\n",
    "- 파이썬은 리스트의 메서드인 append나 extend, +, 를 통해서 구현이 가능"
   ]
  },
  {
   "cell_type": "code",
   "execution_count": 5,
   "metadata": {},
   "outputs": [],
   "source": [
    "# 이것은 스택입니다. \n",
    "# 왜냐면 스택처럼 한쪽에서만 push, pop이 발생하도록 구현할것이기 때문입니다. \n",
    "stack = []"
   ]
  },
  {
   "cell_type": "code",
   "execution_count": 6,
   "metadata": {},
   "outputs": [
    {
     "name": "stdout",
     "output_type": "stream",
     "text": [
      "[10]\n"
     ]
    }
   ],
   "source": [
    "# push는 append를 이용해서 쉽게 구현이 가능합니다. \n",
    "# 파이썬의 리스트 에서는 왼쪽이 bottom, 오른쪽이 top 이라고 보시면 됩니다 \n",
    "stack.append(10)\n",
    "print(stack)"
   ]
  },
  {
   "cell_type": "code",
   "execution_count": 7,
   "metadata": {},
   "outputs": [
    {
     "name": "stdout",
     "output_type": "stream",
     "text": [
      "[10, 20]\n"
     ]
    }
   ],
   "source": [
    "stack.append(20)\n",
    "print(stack)"
   ]
  },
  {
   "cell_type": "code",
   "execution_count": 8,
   "metadata": {},
   "outputs": [
    {
     "name": "stdout",
     "output_type": "stream",
     "text": [
      "[10, 20, 30]\n"
     ]
    }
   ],
   "source": [
    "stack.append(30)\n",
    "print(stack)"
   ]
  },
  {
   "cell_type": "markdown",
   "metadata": {},
   "source": [
    "# pop\n",
    "- 스택에서 데이터를 꺼내오는 명령\n",
    "- 스택의 top(가장 위)에 있는 데이터를 꺼내온다. "
   ]
  },
  {
   "cell_type": "code",
   "execution_count": 11,
   "metadata": {},
   "outputs": [
    {
     "data": {
      "text/plain": [
       "[10, 20]"
      ]
     },
     "execution_count": 11,
     "metadata": {},
     "output_type": "execute_result"
    }
   ],
   "source": [
    "stack.pop(-1)\n",
    "stack"
   ]
  },
  {
   "cell_type": "code",
   "execution_count": 12,
   "metadata": {},
   "outputs": [
    {
     "data": {
      "text/plain": [
       "[10]"
      ]
     },
     "execution_count": 12,
     "metadata": {},
     "output_type": "execute_result"
    }
   ],
   "source": [
    "stack.pop(-1)\n",
    "stack"
   ]
  },
  {
   "cell_type": "markdown",
   "metadata": {},
   "source": [
    "# top\n",
    "- 파이썬에서 스택의 탑은 항상 -1이다. "
   ]
  },
  {
   "cell_type": "code",
   "execution_count": 13,
   "metadata": {},
   "outputs": [
    {
     "name": "stdout",
     "output_type": "stream",
     "text": [
      "[10, 20]\n",
      "20\n"
     ]
    }
   ],
   "source": [
    "stack.append(20)\n",
    "print(stack)\n",
    "print(stack[-1])"
   ]
  },
  {
   "cell_type": "code",
   "execution_count": 14,
   "metadata": {},
   "outputs": [
    {
     "name": "stdout",
     "output_type": "stream",
     "text": [
      "[10, 20, 30]\n",
      "30\n"
     ]
    }
   ],
   "source": [
    "stack.append(30)\n",
    "print(stack)\n",
    "print(stack[-1])"
   ]
  },
  {
   "cell_type": "markdown",
   "metadata": {},
   "source": [
    "# Level 스택 문제 풀이"
   ]
  },
  {
   "cell_type": "markdown",
   "metadata": {},
   "source": [
    "입력 예시 1\n",
    "```\n",
    "3\n",
    "0\n",
    "10\n",
    "0\n",
    "20\n",
    "0\n",
    "30\n",
    "```"
   ]
  },
  {
   "cell_type": "markdown",
   "metadata": {},
   "source": [
    "입력예시 2\n",
    "\n",
    "```\n",
    "6\n",
    "1\n",
    "1\n",
    "1\n",
    "2\n",
    "```"
   ]
  },
  {
   "cell_type": "code",
   "execution_count": 17,
   "metadata": {},
   "outputs": [
    {
     "name": "stdout",
     "output_type": "stream",
     "text": [
      "3\n",
      "0\n",
      "10\n",
      "0\n",
      "20\n",
      "0\n",
      "30\n",
      "10 20 30 "
     ]
    }
   ],
   "source": [
    "# 제일 먼저 첫번째 입력으로부터 입력 횟수를 입력 받습니다. \n",
    "n = int(input())\n",
    "\n",
    "stack = []\n",
    "for _ in range(n):\n",
    "    cmd = int(input())\n",
    "    if cmd == 0: # push\n",
    "        value = int(input()) # push이면 데이터를 추가로 입력\n",
    "        if len(stack) < 10: # 스택의 크기가 10보다 크면 더 이상 데이터를 입력 X\n",
    "            stack.append(value)\n",
    "        else:\n",
    "            print('overflow')\n",
    "    elif cmd == 1: # pop\n",
    "        if not len(stack) == 0:# 스택의 크기가 0이 아니면 즉, 스택에 데이터가 있으면 꺼내온다\n",
    "            stack.pop(-1)\n",
    "        else:\n",
    "            print('underflow')\n",
    "    else: # exit\n",
    "        break\n",
    "\n",
    "for data in stack:\n",
    "    print(data, end= ' ')"
   ]
  },
  {
   "cell_type": "markdown",
   "metadata": {},
   "source": [
    "# 스택을 이용한 괄호 짝 맞추기"
   ]
  },
  {
   "cell_type": "markdown",
   "metadata": {},
   "source": [
    "입력 예시\n",
    "```\n",
    "6\n",
    "(())())\n",
    "(((()())()\n",
    "(()())((()))\n",
    "((()()(()))(((())))()\n",
    "()()()()(()()())()\n",
    "(()((())()(\n",
    "```"
   ]
  },
  {
   "cell_type": "code",
   "execution_count": 18,
   "metadata": {},
   "outputs": [
    {
     "name": "stdout",
     "output_type": "stream",
     "text": [
      "6\n",
      "(())())\n",
      "짝이 맞지 않습니다.\n",
      "(((()())()\n",
      "짝이 맞지 않습니다.\n",
      "(()())((()))\n",
      "짝이 맞습니다\n",
      "((()()(()))(((())))()\n",
      "짝이 맞지 않습니다.\n",
      "()()()()(()()())()\n",
      "짝이 맞습니다\n",
      "(()((())()(\n",
      "짝이 맞지 않습니다.\n"
     ]
    }
   ],
   "source": [
    "n = int(input()) # 첫번째 입력으로부터 입력 횟수를 입력받는다.\n",
    "\n",
    "stack = []\n",
    "flag = 0\n",
    "\n",
    "for _ in range(n):\n",
    "    line = input() # 괄호 짝을 체크할 라인을 읽어 옵니다. \n",
    "    for braket in line:\n",
    "        if braket == '(': # 여는 괄호가 입력되면 스택에 넣어줍니다. \n",
    "            stack.append(braket)\n",
    "        else: \n",
    "            if not len(stack) == 0: # 닫는 괄호가 입력되면 스택에서 꺼내옵니다. \n",
    "                stack.pop(-1)\n",
    "            else:\n",
    "                flag = 1 # 스택에 자료가 없는 경우(underflow)는 플래그 변수를 통해 체크 해줍니다.\n",
    "                break\n",
    "                \n",
    "    # 스택이 비어있고, 언더플로우가 없었다면 짝이 맞는 겁니다. \n",
    "    if len(stack) == 0 and flag == 0: print(\"짝이 맞습니다\")\n",
    "    # 스택이 비어있지 않거나, 비어 있었다고 해도 언더플로우가 있었으면 짝이 안맞는 겁니다. \n",
    "    elif not len(stack) == 0 or flag == 1: print(\"짝이 맞지 않습니다.\")\n",
    "    # 다음 라인을 위해 스택과 플래그를 초기화 해줍니다.\n",
    "    stack = []\n",
    "    flag = 0\n",
    "    "
   ]
  }
 ],
 "metadata": {
  "kernelspec": {
   "display_name": "Python 3",
   "language": "python",
   "name": "python3"
  },
  "language_info": {
   "codemirror_mode": {
    "name": "ipython",
    "version": 3
   },
   "file_extension": ".py",
   "mimetype": "text/x-python",
   "name": "python",
   "nbconvert_exporter": "python",
   "pygments_lexer": "ipython3",
   "version": "3.7.4"
  }
 },
 "nbformat": 4,
 "nbformat_minor": 2
}
