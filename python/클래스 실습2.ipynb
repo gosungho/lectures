{
 "cells": [
  {
   "cell_type": "markdown",
   "metadata": {},
   "source": [
    "# 1. BankAccount 클래스 정의하기 \n",
    "- 은행에서 계좌를 개설하면 기본적으로 계좌번호와 잔액이 설정됩니다. \n",
    "- 생성자를 이용해서 구현해 봅시다. "
   ]
  },
  {
   "cell_type": "code",
   "execution_count": null,
   "metadata": {},
   "outputs": [],
   "source": []
  },
  {
   "cell_type": "markdown",
   "metadata": {},
   "source": [
    "# 2. 클래스 변수\n",
    "- 개설된 계좌의 갯수를 저장하는 클래스 변수 하나를 정의하세요. \n",
    "- number_of_bank_account"
   ]
  },
  {
   "cell_type": "code",
   "execution_count": null,
   "metadata": {},
   "outputs": [],
   "source": []
  },
  {
   "cell_type": "markdown",
   "metadata": {},
   "source": [
    "# 3. 입금 메서드\n",
    "- 계좌를 개설한 객체에 입금을 하기 위한 deposit 메서드를 추가해 봅시다.\n",
    "- 최소 입금액은 1원이라고 가정 합니다. "
   ]
  },
  {
   "cell_type": "code",
   "execution_count": null,
   "metadata": {},
   "outputs": [],
   "source": []
  },
  {
   "cell_type": "markdown",
   "metadata": {},
   "source": [
    "# 4. 출금 메서드\n",
    "- 마찬가지로 출금을 하기 위한, withdraw 메서드를 추가해 봅시다. \n",
    "- 잔액 이상으로는 출금할 수 없습니다. "
   ]
  },
  {
   "cell_type": "code",
   "execution_count": null,
   "metadata": {},
   "outputs": [],
   "source": []
  },
  {
   "cell_type": "markdown",
   "metadata": {},
   "source": [
    "# 이자 지급하기\n",
    "- 입금횟수가 5회가 될 때 마다 잔고를 기준으로 1%의 이자를 잔고에 추가하도록 해 봅시다. "
   ]
  },
  {
   "cell_type": "code",
   "execution_count": null,
   "metadata": {},
   "outputs": [],
   "source": []
  }
 ],
 "metadata": {
  "kernelspec": {
   "display_name": "Python 3",
   "language": "python",
   "name": "python3"
  },
  "language_info": {
   "codemirror_mode": {
    "name": "ipython",
    "version": 3
   },
   "file_extension": ".py",
   "mimetype": "text/x-python",
   "name": "python",
   "nbconvert_exporter": "python",
   "pygments_lexer": "ipython3",
   "version": "3.7.4"
  }
 },
 "nbformat": 4,
 "nbformat_minor": 2
}
