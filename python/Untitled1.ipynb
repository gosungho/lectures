{
 "cells": [
  {
   "cell_type": "markdown",
   "metadata": {},
   "source": [
    "# 입출력 첫번째 표준 입출력\n",
    "\n",
    "- input(), print()\n",
    "- input과 같은 경우 블록함수로써, 입력이 들어올때 까지 대기\n",
    "- input() 함수로 입력받는 경우 자료형은 문자열이다."
   ]
  },
  {
   "cell_type": "markdown",
   "metadata": {},
   "source": [
    "# 두 수를 입력받아, 입력받은 두 수의 합을 구해 봅시다. "
   ]
  },
  {
   "cell_type": "code",
   "execution_count": null,
   "metadata": {},
   "outputs": [],
   "source": [
    "# n = input(\"첫번째 수를 입력하세요: \")\n",
    "# m = input(\"두번째 수를 입력하세요: \")\n",
    "# 입력의 형태: 1,2,3, ...\n",
    "# 입력의 형태: 29 84 6 738 947\n",
    "\n",
    "while True:\n",
    "    tmp = input(\"두 수를 입력하세요: \")\n",
    "    n, m = tmp.split(sep=',')\n",
    "\n",
    "    # validation\n",
    "    if n.isdecimal() and m.isdecimal():\n",
    "        n = int(n)\n",
    "        m = int(m)\n",
    "        print(\"입력된 두 수의 합은 {} 입니다.\".format(n+m))\n",
    "    else:\n",
    "        print(\"계산할 수 없는 값이 입력되었습니다\")"
   ]
  },
  {
   "cell_type": "markdown",
   "metadata": {},
   "source": [
    "# 입출력 두번째 파일 읽고/쓰기"
   ]
  },
  {
   "cell_type": "code",
   "execution_count": 39,
   "metadata": {},
   "outputs": [
    {
     "name": "stdout",
     "output_type": "stream",
     "text": [
      "Lorem ipsum dolor sit amet, consectetur adipiscing elit.\n",
      "\n",
      "Sed finibus enim eget aliquet porttitor.\n",
      "\n",
      "In lobortis nisl sit amet quam viverra, vel commodo urna sodales.\n",
      "\n",
      "Sed eget sapien nec erat facilisis pellentesque quis et justo.\n",
      "\n",
      "Suspendisse venenatis nibh vehicula urna egestas, vel dapibus odio luctus.\n",
      "\n",
      "Nullam eu diam a ex blandit varius ut vel velit.\n",
      "\n",
      "Ut ornare eros et vehicula pretium.\n",
      "\n",
      "Phasellus dapibus elit ut ornare lobortis.\n",
      "\n",
      "Duis porttitor purus eget lacus tristique ultrices.\n",
      "\n",
      "Donec a lorem vel dolor eleifend imperdiet.\n"
     ]
    }
   ],
   "source": [
    "# open(\"/workspace/sd_jupyter/open.txt\") # 절대경로\n",
    "file = open(\"../../open.txt\") # 상대경로\n",
    "# file.read()\n",
    "# print(file.readline() )\n",
    "# print(file.readline() )\n",
    "\n",
    "for line in file.readlines():\n",
    "    print(line)\n",
    "    \n",
    "file.close() # 중요!"
   ]
  },
  {
   "cell_type": "code",
   "execution_count": 40,
   "metadata": {},
   "outputs": [],
   "source": [
    "file = open(\"../../open.txt\", mode='w')\n",
    "file.write(\"동해물과 백두산이 마르고 닳도록...\")\n",
    "file.close()"
   ]
  },
  {
   "cell_type": "code",
   "execution_count": 45,
   "metadata": {},
   "outputs": [
    {
     "name": "stdout",
     "output_type": "stream",
     "text": [
      "Lorem ipsum dolor sit amet, consectetur adipiscing elit.\n",
      "\n",
      "Sed finibus enim eget aliquet porttitor.\n",
      "\n",
      "In lobortis nisl sit amet quam viverra, vel commodo urna sodales.\n",
      "\n",
      "Sed eget sapien nec erat facilisis pellentesque quis et justo.\n",
      "\n",
      "Suspendisse venenatis nibh vehicula urna egestas, vel dapibus odio luctus.\n",
      "\n",
      "Nullam eu diam a ex blandit varius ut vel velit.\n",
      "\n",
      "Ut ornare eros et vehicula pretium.\n",
      "\n",
      "Phasellus dapibus elit ut ornare lobortis.\n",
      "\n",
      "Duis porttitor purus eget lacus tristique ultrices.\n",
      "\n",
      "Donec a lorem vel dolor eleifend imperdiet.\n"
     ]
    }
   ],
   "source": [
    "# f = open(...)\n",
    "with open(\"../../open.txt\", mode='r') as f:\n",
    "    print( f.readline() )\n",
    "    for line in f.readlines():\n",
    "        print(line)"
   ]
  },
  {
   "cell_type": "markdown",
   "metadata": {},
   "source": [
    "# 입출력 세번째 네트워크"
   ]
  },
  {
   "cell_type": "code",
   "execution_count": null,
   "metadata": {},
   "outputs": [],
   "source": []
  },
  {
   "cell_type": "markdown",
   "metadata": {},
   "source": [
    "# 함수(재귀함수)"
   ]
  },
  {
   "cell_type": "code",
   "execution_count": null,
   "metadata": {},
   "outputs": [],
   "source": [
    "# 덧셈(1부터 10까지의 합)\n",
    "\n",
    "for i in range(10):\n",
    "    i = i + 1\n",
    "    print(i)"
   ]
  },
  {
   "cell_type": "code",
   "execution_count": null,
   "metadata": {},
   "outputs": [],
   "source": [
    "def recursive(n):\n",
    "    if n <= 1:\n",
    "        return 1\n",
    "    return n + recursive(n-1)"
   ]
  },
  {
   "cell_type": "markdown",
   "metadata": {},
   "source": [
    "# 피보나치 수열\n",
    "\n",
    "```\n",
    "    F = 0, \n",
    "    F_1 = 1, \n",
    "    F_2 = F_1 + F_0\n",
    "    F_3 = F_2 + F_1\n",
    "    ...\n",
    "    F_n = F_(n-1) + F_(n-2)\n",
    "```"
   ]
  },
  {
   "cell_type": "markdown",
   "metadata": {},
   "source": [
    "# n번째 피보나치의 수는 무엇인가? \n",
    "- ex). fibonachi(12)"
   ]
  },
  {
   "cell_type": "code",
   "execution_count": 11,
   "metadata": {},
   "outputs": [
    {
     "name": "stdout",
     "output_type": "stream",
     "text": [
      "26863810024485359386146727202142923967616609318986952340123175997617981700247881689338369654483356564191827856161443356312976673642210350324634850410377680367334151172899169723197082763985615764450078474174626\n"
     ]
    }
   ],
   "source": [
    "n = 1000\n",
    "fibo = [ 0, 1 ]\n",
    "\n",
    "for i in range(2, n):\n",
    "    fibo.append( fibo[i-1] + fibo[i-2] )\n",
    "    \n",
    "print(fibo[n-1])"
   ]
  },
  {
   "cell_type": "code",
   "execution_count": 14,
   "metadata": {
    "scrolled": true
   },
   "outputs": [
    {
     "data": {
      "text/plain": [
       "75025"
      ]
     },
     "execution_count": 14,
     "metadata": {},
     "output_type": "execute_result"
    }
   ],
   "source": [
    "def fibonachi(n):\n",
    "    if n <= 1:\n",
    "        return n\n",
    "    else:\n",
    "        return fibonachi(n-1) + fibonachi(n-2)\n",
    "    \n",
    "fibonachi(25)"
   ]
  },
  {
   "cell_type": "code",
   "execution_count": 17,
   "metadata": {},
   "outputs": [],
   "source": [
    "lists = [ 12, 675, 1, 65, 475, 3, 65, 9, 876, 1234]\n",
    "lists.sort()"
   ]
  },
  {
   "cell_type": "code",
   "execution_count": 18,
   "metadata": {},
   "outputs": [
    {
     "data": {
      "text/plain": [
       "[1, 3, 9, 12, 65, 65, 475, 675, 876, 1234]"
      ]
     },
     "execution_count": 18,
     "metadata": {},
     "output_type": "execute_result"
    }
   ],
   "source": [
    "lists"
   ]
  }
 ],
 "metadata": {
  "kernelspec": {
   "display_name": "Python 3",
   "language": "python",
   "name": "python3"
  },
  "language_info": {
   "codemirror_mode": {
    "name": "ipython",
    "version": 3
   },
   "file_extension": ".py",
   "mimetype": "text/x-python",
   "name": "python",
   "nbconvert_exporter": "python",
   "pygments_lexer": "ipython3",
   "version": "3.7.4"
  }
 },
 "nbformat": 4,
 "nbformat_minor": 2
}
